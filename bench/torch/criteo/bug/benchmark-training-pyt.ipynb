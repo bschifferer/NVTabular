{
 "cells": [
  {
   "cell_type": "code",
   "execution_count": 1,
   "metadata": {},
   "outputs": [],
   "source": [
    "# Copyright 2020 NVIDIA Corporation. All Rights Reserved.\n",
    "#\n",
    "# Licensed under the Apache License, Version 2.0 (the \"License\");\n",
    "# you may not use this file except in compliance with the License.\n",
    "# You may obtain a copy of the License at\n",
    "#\n",
    "#     http://www.apache.org/licenses/LICENSE-2.0\n",
    "#\n",
    "# Unless required by applicable law or agreed to in writing, software\n",
    "# distributed under the License is distributed on an \"AS IS\" BASIS,\n",
    "# WITHOUT WARRANTIES OR CONDITIONS OF ANY KIND, either express or implied.\n",
    "# See the License for the specific language governing permissions and\n",
    "# limitations under the License.\n",
    "# =============================================================================="
   ]
  },
  {
   "cell_type": "markdown",
   "metadata": {},
   "source": [
    "<img src=\"http://developer.download.nvidia.com/compute/machine-learning/frameworks/nvidia_logo.png\" style=\"width: 90px; float: right;\">\n",
    "\n",
    "# Benchmark NVTabular data loader\n",
    "We are interested to benchmark the NVTabular data loader and compare its performance to the TensorFlow \"native\" data loader based on tf.records. In [benchmark-preprocess.ipynb](???), we preprocess the dataset, ready to use for NVTabular data loader (parquet) and TensorFlow native data loader (tf.records). In this notebook, we will train a neural network in TensorFlow using either data loader and measure the performance."
   ]
  },
  {
   "cell_type": "markdown",
   "metadata": {},
   "source": [
    "First, we install gpustat"
   ]
  },
  {
   "cell_type": "code",
   "execution_count": 2,
   "metadata": {},
   "outputs": [
    {
     "name": "stdout",
     "output_type": "stream",
     "text": [
      "Collecting gpustat\n",
      "  Downloading gpustat-0.6.0.tar.gz (78 kB)\n",
      "\u001b[K     |████████████████████████████████| 78 kB 9.9 MB/s  eta 0:00:01\n",
      "\u001b[?25hRequirement already satisfied: tqdm in /conda/envs/rapids/lib/python3.8/site-packages (4.59.0)\n",
      "Requirement already satisfied: six>=1.7 in /conda/envs/rapids/lib/python3.8/site-packages (from gpustat) (1.15.0)\n",
      "Collecting nvidia-ml-py3>=7.352.0\n",
      "  Downloading nvidia-ml-py3-7.352.0.tar.gz (19 kB)\n",
      "Requirement already satisfied: psutil in /conda/envs/rapids/lib/python3.8/site-packages (from gpustat) (5.8.0)\n",
      "Collecting blessings>=1.6\n",
      "  Downloading blessings-1.7-py3-none-any.whl (18 kB)\n",
      "Building wheels for collected packages: gpustat, nvidia-ml-py3\n",
      "  Building wheel for gpustat (setup.py) ... \u001b[?25ldone\n",
      "\u001b[?25h  Created wheel for gpustat: filename=gpustat-0.6.0-py3-none-any.whl size=12617 sha256=d2a49287f83e5b8c20cd41c6cafad1675d2b7f629071d2fd0c21797d8e5a5dd2\n",
      "  Stored in directory: /root/.cache/pip/wheels/0d/d9/80/b6cbcdc9946c7b50ce35441cc9e7d8c5a9d066469ba99bae44\n",
      "  Building wheel for nvidia-ml-py3 (setup.py) ... \u001b[?25ldone\n",
      "\u001b[?25h  Created wheel for nvidia-ml-py3: filename=nvidia_ml_py3-7.352.0-py3-none-any.whl size=19191 sha256=816cd59c1f25b6cb792b6331198ac66502b0048c0d2748985ce9a25a53b6edba\n",
      "  Stored in directory: /root/.cache/pip/wheels/b9/b1/68/cb4feab29709d4155310d29a421389665dcab9eb3b679b527b\n",
      "Successfully built gpustat nvidia-ml-py3\n",
      "Installing collected packages: nvidia-ml-py3, blessings, gpustat\n",
      "Successfully installed blessings-1.7 gpustat-0.6.0 nvidia-ml-py3-7.352.0\n"
     ]
    }
   ],
   "source": [
    "!pip install gpustat tqdm"
   ]
  },
  {
   "cell_type": "markdown",
   "metadata": {},
   "source": [
    "We run single GPU version and set only one visible device."
   ]
  },
  {
   "cell_type": "code",
   "execution_count": 1,
   "metadata": {},
   "outputs": [],
   "source": [
    "import os, time\n",
    "os.environ[\"CUDA_VISIBLE_DEVICES\"]=\"0\""
   ]
  },
  {
   "cell_type": "markdown",
   "metadata": {},
   "source": [
    "We import the required libraries."
   ]
  },
  {
   "cell_type": "code",
   "execution_count": 2,
   "metadata": {},
   "outputs": [],
   "source": [
    "import glob\n",
    "import gc\n",
    "import pickle\n",
    "from time import time\n",
    "\n",
    "\n",
    "import nvtabular as nvt\n",
    "\n",
    "import pandas as pd\n",
    "import numpy as np\n",
    "\n",
    "from fastai.tabular.data import TabularDataLoaders\n",
    "\n",
    "from torch.utils.data import DataLoader\n",
    "from torch.utils.data import Dataset"
   ]
  },
  {
   "cell_type": "markdown",
   "metadata": {},
   "source": [
    "We define the CustomDataset, which is used for the native PyTorch dataloader"
   ]
  },
  {
   "cell_type": "code",
   "execution_count": 3,
   "metadata": {},
   "outputs": [],
   "source": [
    "from torch.utils.data import DataLoader\n",
    "from torch.utils.data import Dataset\n",
    "\n",
    "import numpy as np\n",
    "\n",
    "class CustomDataset(Dataset):\n",
    "  \"\"\"Simple dataset class for dataloader\"\"\"\n",
    "  def __init__(self, X, cont_names, cat_names, label_name):\n",
    "    \"\"\"Initialize the CustomDataset\"\"\"\n",
    "    self.X_cont = X[cont_names].values\n",
    "    self.X_cat = X[cat_names].values\n",
    "    self.y = X[label_name].values\n",
    "    \n",
    "  def __len__(self):\n",
    "    \"\"\"Return the total length of the dataset\"\"\"\n",
    "    dataset_size = self.X_cat.shape[0]\n",
    "    return dataset_size\n",
    "  \n",
    "  def __getitem__(self, idx):\n",
    "    \"\"\"Return the batch given the indices\"\"\"\n",
    "    return (self.X_cat[idx].astype(np.int64), \n",
    "            self.X_cont[idx].astype(np.float32), \n",
    "            self.y[idx].astype(np.float32))"
   ]
  },
  {
   "cell_type": "markdown",
   "metadata": {},
   "source": [
    "We define a simple feed forward neural network with embedding layers for categorical features."
   ]
  },
  {
   "cell_type": "code",
   "execution_count": 4,
   "metadata": {},
   "outputs": [],
   "source": [
    "import torch\n",
    "import torch.nn as nn\n",
    "\n",
    "from nvtabular.loader.torch import TorchAsyncItr, DLDataLoader\n",
    "\n",
    "from nvtabular.framework_utils.torch.utils import process_epoch\n",
    "\n",
    "class EmbeddingBlock(nn.Module):\n",
    "    def __init__(self, cat_names, cat_stats):\n",
    "        super(EmbeddingBlock, self).__init__()\n",
    "        emb_list = []\n",
    "        size = 0\n",
    "        for i, emb in enumerate(cat_names):\n",
    "            emb_size = cat_stats[emb][1]\n",
    "            emb_list.append(nn.Embedding(cat_stats[emb][0], emb_size))\n",
    "            size += emb_size\n",
    "        self.emb = nn.ModuleList(emb_list)\n",
    "        self.out_size = size\n",
    "    \n",
    "    def forward(self, X):\n",
    "        x = [e(X[:,i]) for i, e in enumerate(self.emb)]\n",
    "        return(x)\n",
    "\n",
    "class MLPTower(nn.Module):\n",
    "    def __init__(self, in_size, out_size, hidden_layers):\n",
    "        super(MLPTower, self).__init__()\n",
    "        layers = []\n",
    "        for i, tmp_out_size in enumerate(hidden_layers):\n",
    "            layers.append(nn.Linear(in_size, tmp_out_size))\n",
    "            layers.append(nn.ReLU())\n",
    "            in_size = tmp_out_size\n",
    "        layers.append(nn.Linear(in_size, out_size))\n",
    "        self.hidden = nn.Sequential(*layers)\n",
    "    \n",
    "    def forward(self, X):\n",
    "        return self.hidden(X)\n",
    "\n",
    "class SimpleNN(nn.Module):\n",
    "    def __init__(self, \n",
    "                 cont_names, \n",
    "                 cat_names, \n",
    "                 cat_stats,\n",
    "                 hidden_layers, \n",
    "                 out_size=1,\n",
    "                ):\n",
    "        super(SimpleNN, self).__init__()\n",
    "        self.embblock = EmbeddingBlock(cat_names, cat_stats)\n",
    "        \n",
    "        mlp_input_size = self.embblock.out_size+len(cont_names)\n",
    "        self.topmlp = MLPTower(mlp_input_size, \n",
    "                               out_size=out_size, \n",
    "                               hidden_layers=hidden_layers\n",
    "                              )\n",
    "        \n",
    "    def forward(self, X_cat, X_num):\n",
    "        x_embblock = self.embblock(X_cat)\n",
    "        x_deep = torch.cat(x_embblock + [X_num], axis=1)\n",
    "        x_deep = self.topmlp(x_deep)\n",
    "        x_out = x_deep\n",
    "        return(torch.squeeze(x_out))\n",
    "    \n",
    "\n",
    "def process_epoch(\n",
    "    dataloader,\n",
    "    model,\n",
    "    train=False,\n",
    "    optimizer=None,\n",
    "    loss_func=torch.nn.MSELoss(),\n",
    "    transform=None,\n",
    "    amp=True,\n",
    "    device=None,\n",
    "    steps=None\n",
    "):\n",
    "    \"\"\"\n",
    "    The controlling function that loads data supplied via a dataloader to a model. Can be redefined\n",
    "    based on parameters.\n",
    "    Parameters\n",
    "    -----------\n",
    "    dataloader : iterator\n",
    "        Iterator that contains the dataset to be submitted to the model.\n",
    "    model : torch.nn.Module\n",
    "        Pytorch model to run data through.\n",
    "    train : bool\n",
    "        Indicate whether dataloader contains training set.\n",
    "    optimizer : object\n",
    "        Optimizer to run in conjunction with model.\n",
    "    loss_func : function\n",
    "        Loss function to use, default is MSELoss.\n",
    "    \"\"\"\n",
    "    n=0\n",
    "    model.train(mode=train)\n",
    "    with torch.set_grad_enabled(train):\n",
    "        y_list, y_pred_list = [], []\n",
    "        for idx, batch in enumerate(iter(dataloader)):\n",
    "            n+=batch[0].shape[0]\n",
    "            if transform:\n",
    "                x_cat, x_cont, y = transform(batch)\n",
    "            else:\n",
    "                x_cat, x_cont, y = batch\n",
    "            if device:\n",
    "                x_cat = x_cat.to(device)\n",
    "                x_cont = x_cont.to(device)\n",
    "                y = y.to(device)\n",
    "            y = torch.squeeze(y).float()\n",
    "            #y_list.append(y.detach())\n",
    "            # maybe autocast goes here?\n",
    "            if amp:\n",
    "                with torch.cuda.amp.autocast():\n",
    "                    y_pred = model(x_cat, x_cont)\n",
    "                    #y_pred_list.append(y_pred.detach())\n",
    "                    loss = loss_func(y_pred, y)\n",
    "            else:\n",
    "                y_pred = model(x_cat, x_cont)\n",
    "                #y_pred_list.append(y_pred.detach())\n",
    "                loss = loss_func(y_pred, y)\n",
    "            if train:\n",
    "                optimizer.zero_grad()\n",
    "                loss.backward()\n",
    "                optimizer.step()\n",
    "            if steps:\n",
    "                if (idx+1)>=steps:\n",
    "                    break\n",
    "    #y = torch.cat(y_list)\n",
    "    #y_pred = torch.cat(y_pred_list)\n",
    "    epoch_loss = loss_func(y_pred, y).item()\n",
    "    return epoch_loss, 0, 0, n"
   ]
  },
  {
   "cell_type": "markdown",
   "metadata": {},
   "source": [
    "We define multiple helper functions.<br><br>\n",
    "*get_dataloader* returns the NVTabular data loader, PyTorch or FastAI data loader, depending on dl_type<br>\n",
    "*log_textfile* stores output to a textfile"
   ]
  },
  {
   "cell_type": "code",
   "execution_count": 5,
   "metadata": {},
   "outputs": [],
   "source": [
    "### Helper Function\n",
    "def get_dataloader(dl_type='NVTabular'):\n",
    "    if dl_type=='NVTabular':\n",
    "        train_dataset = TorchAsyncItr(nvt.Dataset(train_files), \n",
    "                                      batch_size=BATCH_SIZE, \n",
    "                                      cats=CATEGORICAL_COLUMNS, \n",
    "                                      conts=CONTINUOUS_COLUMNS, \n",
    "                                      labels=LABEL_COLUMNS\n",
    "                                     )\n",
    "        train_loader = DLDataLoader(train_dataset, \n",
    "                                    batch_size=None,\n",
    "                                    pin_memory=False, \n",
    "                                    num_workers=0\n",
    "                                   )\n",
    "        valid_dataset = TorchAsyncItr(nvt.Dataset(valid_files), \n",
    "                                      batch_size=BATCH_SIZE, \n",
    "                                      cats=CATEGORICAL_COLUMNS, \n",
    "                                      conts=CONTINUOUS_COLUMNS, \n",
    "                                      labels=LABEL_COLUMNS)\n",
    "        valid_loader = DLDataLoader(valid_dataset, \n",
    "                                    batch_size=None,\n",
    "                                    pin_memory=False, \n",
    "                                    num_workers=0)\n",
    "    if dl_type=='PyTorch':\n",
    "        pd_train = pd.concat([pd.read_parquet(x) for x in train_files])\n",
    "        train_dataset = CustomDataset(pd_train, \n",
    "                                      cat_names=sorted(CATEGORICAL_COLUMNS), \n",
    "                                      cont_names=CONTINUOUS_COLUMNS, \n",
    "                                      label_name=LABEL_COLUMNS)\n",
    "        train_loader = DataLoader(train_dataset, \n",
    "                                  batch_size=BATCH_SIZE, \n",
    "                                  shuffle=True, \n",
    "                                  num_workers=16)\n",
    "        valid_loader = None\n",
    "    if dl_type=='FastAI':\n",
    "        df_valid = pd.concat([pd.read_parquet(x) for x in valid_files[0:1]])\n",
    "        df_train = pd.concat([pd.read_parquet(x) for x in train_files])\n",
    "        idx_train = df_train.shape[0]\n",
    "        df = pd.concat([df_train, df_valid])\n",
    "        del df_train, df_valid\n",
    "        gc.collect()\n",
    "        dl = TabularDataLoaders.from_df(df, \n",
    "                                cat_names=sorted(CATEGORICAL_COLUMNS), \n",
    "                                cont_names=CONTINUOUS_COLUMNS,\n",
    "                                y_names=LABEL_COLUMNS[0],\n",
    "                                valid_idx=list(range(idx_train,df.shape[0])),\n",
    "                                bs=BATCH_SIZE,\n",
    "                                val_bs=BATCH_SIZE,\n",
    "                                device=todevice\n",
    "                               )\n",
    "        train_loader, valid_loader = dl.loaders\n",
    "    return(train_loader, valid_loader)\n",
    "\n",
    "def log_textfile(filename, text, mode):\n",
    "    print(text)\n",
    "    f = open(filename, mode)\n",
    "    f.write(str(text) + str('\\n'))\n",
    "    f.close()"
   ]
  },
  {
   "cell_type": "markdown",
   "metadata": {},
   "source": [
    "In addition, we define functions to measure the performance.<br><br>\n",
    "*time_only_dl* measures the time for just iterating through the dataset for 1 epoch WITHOUT training a model<br>\n",
    "*time_training* measures the time for training a model for 1 epoch"
   ]
  },
  {
   "cell_type": "code",
   "execution_count": 6,
   "metadata": {},
   "outputs": [],
   "source": [
    "def time_only_dl(dl):\n",
    "    start = time()\n",
    "    i = 0\n",
    "    n = 0\n",
    "    for _, batch in enumerate(dl):\n",
    "        i+=1\n",
    "        n+=batch[0].shape[0]\n",
    "    end = time()\n",
    "    return(end-start, i, n)\n",
    "\n",
    "def time_training(model, train_dataset, optimizer, amp=True, device=None):\n",
    "    start = time()\n",
    "    train_loss, y_pred, y, n = process_epoch(train_dataset, \n",
    "                                             model, \n",
    "                                             train=True,\n",
    "                                             loss_func=torch.nn.BCEWithLogitsLoss(),\n",
    "                                             optimizer=optimizer,\n",
    "                                             amp=amp,\n",
    "                                             device=device)\n",
    "    end = time()\n",
    "    return(end-start, n)"
   ]
  },
  {
   "cell_type": "markdown",
   "metadata": {},
   "source": [
    "We define which benchmark, we want to run."
   ]
  },
  {
   "cell_type": "code",
   "execution_count": 7,
   "metadata": {},
   "outputs": [],
   "source": [
    "AMP = False\n",
    "DL_TYPES = ['NVTabular', 'PyTorch', 'FastAI']\n",
    "BENCHMARK_TYPES = ['time_only_dl', 'time_training', 'convergence_training_loss', 'convergence_val_loss']\n",
    "DL_TYPE = 'NVTabular'\n",
    "BENCHMARK_TYPE = 'time_training'\n",
    "CPU = False\n",
    "\n",
    "if DL_TYPE not in DL_TYPES:\n",
    "    raise ValueError(DL_TYPE + ' is not supported.  Choose from ' + str(DL_TYPES))\n",
    "    \n",
    "if BENCHMARK_TYPE not in BENCHMARK_TYPES:\n",
    "    raise ValueError(BENCHMARK_TYPE + ' is not supported. Choose from ' + str(BENCHMARK_TYPES))\n",
    "\n",
    "if CPU:\n",
    "    todevice = \"cpu\"\n",
    "else:\n",
    "    todevice = \"cuda:0\""
   ]
  },
  {
   "cell_type": "markdown",
   "metadata": {},
   "source": [
    "We define the inpurt directory for the parquet and tf.records file."
   ]
  },
  {
   "cell_type": "code",
   "execution_count": 8,
   "metadata": {},
   "outputs": [
    {
     "data": {
      "text/plain": [
       "(['/raid/data/criteo/output/output/train/12.353c8050ed1f4702bde63bd697c9cc36.parquet',\n",
       "  '/raid/data/criteo/output/output/train/18.6e5ac8d8f49f46089cecceb6d044adda.parquet',\n",
       "  '/raid/data/criteo/output/output/train/14.98377a29380145999e7e1e0d4c75eb81.parquet',\n",
       "  '/raid/data/criteo/output/output/train/4.1907f580308044b6a32da25e9d3f1540.parquet',\n",
       "  '/raid/data/criteo/output/output/train/8.68a9f5f1feb64fe59fe160211b54afd4.parquet',\n",
       "  '/raid/data/criteo/output/output/train/1.8772a8717fae46df8b521cdd891df07a.parquet',\n",
       "  '/raid/data/criteo/output/output/train/16.7a1f69dd7d834844bbfb68e659bb362c.parquet',\n",
       "  '/raid/data/criteo/output/output/train/6.46cd6180dc42484199d895a2de02a1a6.parquet',\n",
       "  '/raid/data/criteo/output/output/train/2.1063c71d33e646fe8e6218bc2457c3cb.parquet',\n",
       "  '/raid/data/criteo/output/output/train/7.1a249ca9dbf44b8e9ca6b0ce740e3a88.parquet',\n",
       "  '/raid/data/criteo/output/output/train/0.cb895dbeefa14e65aa2e715b295ac9e7.parquet',\n",
       "  '/raid/data/criteo/output/output/train/5.c311b5980d704e93816fa7804e2a3857.parquet',\n",
       "  '/raid/data/criteo/output/output/train/9.74f0e8c3d56d4dcfb5612ad43d5b8adb.parquet',\n",
       "  '/raid/data/criteo/output/output/train/11.e174d5a532c94b69822fd863478c4e04.parquet',\n",
       "  '/raid/data/criteo/output/output/train/13.95d6f2a6766048088ee7ae81a79bc1bb.parquet',\n",
       "  '/raid/data/criteo/output/output/train/17.48205e924f50415d83009a48ff3ee19f.parquet',\n",
       "  '/raid/data/criteo/output/output/train/10.3aa47f4aa3144735a2b0f71dc88fa918.parquet',\n",
       "  '/raid/data/criteo/output/output/train/15.7be16af0b3fa47a4897b5a0ab595d7be.parquet',\n",
       "  '/raid/data/criteo/output/output/train/19.f79d7d5b19864ce69e7ff41131c87c09.parquet',\n",
       "  '/raid/data/criteo/output/output/train/3.9fe016cc81694cee9f05674324ae0dba.parquet'],\n",
       " ['/raid/data/criteo/output/output/valid/13.d4724e7f0834411cb46533f8f8c86034.parquet',\n",
       "  '/raid/data/criteo/output/output/valid/4.c202f22751934899beaaeee483a5e9e2.parquet',\n",
       "  '/raid/data/criteo/output/output/valid/1.3aca89e5106c4e7f8a06cc71440e0b6a.parquet',\n",
       "  '/raid/data/criteo/output/output/valid/15.9303e2ee042c4146a0aaa6a5d4850a15.parquet',\n",
       "  '/raid/data/criteo/output/output/valid/10.8c43c55cca2e425d9ce43148efaed85b.parquet',\n",
       "  '/raid/data/criteo/output/output/valid/3.6e231834104c45a2a1012a7195788261.parquet',\n",
       "  '/raid/data/criteo/output/output/valid/17.707601bf952f47279c7c1ba49259092b.parquet',\n",
       "  '/raid/data/criteo/output/output/valid/14.bfd3a717ed6b44a8b4fcf366c67e3b65.parquet',\n",
       "  '/raid/data/criteo/output/output/valid/7.4ae3f3bdf2514499b8a9ce04b5312797.parquet',\n",
       "  '/raid/data/criteo/output/output/valid/19.44f0eba35c204affb20e55401decea13.parquet',\n",
       "  '/raid/data/criteo/output/output/valid/0.f90e29f44474454ea6ad03a0bdfa9d74.parquet',\n",
       "  '/raid/data/criteo/output/output/valid/16.efb3bd3869b44ee8bc6a4bbdc564cf54.parquet',\n",
       "  '/raid/data/criteo/output/output/valid/6.ad8ec6d6447b48619afa548be23336a8.parquet',\n",
       "  '/raid/data/criteo/output/output/valid/2.63899d36733c43f691b4eaafcc82621e.parquet',\n",
       "  '/raid/data/criteo/output/output/valid/12.d613b4f1a9554ab3840e5c81acf06c71.parquet',\n",
       "  '/raid/data/criteo/output/output/valid/5.5aae3277b269426ab6e8446eee287907.parquet',\n",
       "  '/raid/data/criteo/output/output/valid/18.4e9d894e2ba744d688a1eaebaf39864f.parquet',\n",
       "  '/raid/data/criteo/output/output/valid/8.1d840945b6664380afddc4f073037404.parquet',\n",
       "  '/raid/data/criteo/output/output/valid/9.1317d2c0af2a49e8bdafb77eaccac160.parquet',\n",
       "  '/raid/data/criteo/output/output/valid/11.2b92bf253ebf43bd8b4537263b2b233b.parquet'])"
      ]
     },
     "execution_count": 8,
     "metadata": {},
     "output_type": "execute_result"
    }
   ],
   "source": [
    "# define some information about where to get our data\n",
    "OUTPUT_DIR = '/raid/data/criteo/output/'\n",
    "OUTPUT_DATA_DIR = os.environ.get('OUTPUT_DATA_DIR', OUTPUT_DIR + 'output') # where we'll save our procesed data to\n",
    "\n",
    "output_train_dir = os.path.join(OUTPUT_DATA_DIR, 'train/')\n",
    "output_valid_dir = os.path.join(OUTPUT_DATA_DIR, 'valid/')\n",
    "\n",
    "train_files = glob.glob(output_train_dir + '*.parquet')\n",
    "valid_files = glob.glob(output_valid_dir + '*.parquet')\n",
    "train_files, valid_files"
   ]
  },
  {
   "cell_type": "markdown",
   "metadata": {},
   "source": [
    "We define some hyperparameters and network architecture."
   ]
  },
  {
   "cell_type": "code",
   "execution_count": 9,
   "metadata": {},
   "outputs": [],
   "source": [
    "# Batch size for training the deep learning model\n",
    "BATCH_SIZE = int(os.environ.get('BATCH_SIZE', 1024*32))      \n",
    "# Number of epochs (only for convergence_val_loss)\n",
    "EPOCHS = 1\n",
    "# Number of steps in training to collect train_loss (only for convergence_training_loss)\n",
    "TRAIN_STEPS = 20\n",
    "# Max. number of steps per epoch (tf.records allows only full batches)\n",
    "STEPS = int(150000000/BATCH_SIZE)\n",
    "# Number of units in hidden layer - length is number of hidden layers\n",
    "HIDDEN_DIMS = [1024, 1024, 1024, 1024]\n",
    "# Number of parts using in shuffling of NVTabular data loader\n",
    "PARTS_PER_CHUNK = int(os.environ.get('PARTS_PER_CHUNK', 1))"
   ]
  },
  {
   "cell_type": "markdown",
   "metadata": {},
   "source": [
    "We load the saved NVTabular workflow to extract the data schema and some statistics."
   ]
  },
  {
   "cell_type": "code",
   "execution_count": 10,
   "metadata": {},
   "outputs": [],
   "source": [
    "EMBEDDING_TABLE_SHAPES = {'C1': (7599500, 16),\n",
    " 'C10': (5345303, 16),\n",
    " 'C11': (561810, 16),\n",
    " 'C12': (242827, 16),\n",
    " 'C13': (11, 6),\n",
    " 'C14': (2209, 16),\n",
    " 'C15': (10616, 16),\n",
    " 'C16': (100, 16),\n",
    " 'C17': (4, 3),\n",
    " 'C18': (968, 16),\n",
    " 'C19': (15, 7),\n",
    " 'C2': (33521, 16),\n",
    " 'C20': (7838519, 16),\n",
    " 'C21': (2580502, 16),\n",
    " 'C22': (6878028, 16),\n",
    " 'C23': (298771, 16),\n",
    " 'C24': (11951, 16),\n",
    " 'C25': (97, 16),\n",
    " 'C26': (35, 12),\n",
    " 'C3': (17022, 16),\n",
    " 'C4': (7339, 16),\n",
    " 'C5': (20046, 16),\n",
    " 'C6': (4, 3),\n",
    " 'C7': (7068, 16),\n",
    " 'C8': (1377, 16),\n",
    " 'C9': (63, 16)}\n",
    "\n",
    "CONTINUOUS_COLUMNS = ['I' + str(x) for x in range(1,14)]\n",
    "CATEGORICAL_COLUMNS =  ['C' + str(x) for x in range(1,27)]\n",
    "LABEL_COLUMNS = ['label']"
   ]
  },
  {
   "cell_type": "markdown",
   "metadata": {},
   "source": [
    "We initialize our model."
   ]
  },
  {
   "cell_type": "code",
   "execution_count": 11,
   "metadata": {},
   "outputs": [],
   "source": [
    "model = SimpleNN(\n",
    "     cont_names=CONTINUOUS_COLUMNS, \n",
    "     cat_names=sorted(CATEGORICAL_COLUMNS), \n",
    "     cat_stats=EMBEDDING_TABLE_SHAPES,\n",
    "     hidden_layers=HIDDEN_DIMS\n",
    ").to(todevice)"
   ]
  },
  {
   "cell_type": "code",
   "execution_count": 12,
   "metadata": {},
   "outputs": [
    {
     "data": {
      "text/plain": [
       "SimpleNN(\n",
       "  (embblock): EmbeddingBlock(\n",
       "    (emb): ModuleList(\n",
       "      (0): Embedding(7599500, 16)\n",
       "      (1): Embedding(5345303, 16)\n",
       "      (2): Embedding(561810, 16)\n",
       "      (3): Embedding(242827, 16)\n",
       "      (4): Embedding(11, 6)\n",
       "      (5): Embedding(2209, 16)\n",
       "      (6): Embedding(10616, 16)\n",
       "      (7): Embedding(100, 16)\n",
       "      (8): Embedding(4, 3)\n",
       "      (9): Embedding(968, 16)\n",
       "      (10): Embedding(15, 7)\n",
       "      (11): Embedding(33521, 16)\n",
       "      (12): Embedding(7838519, 16)\n",
       "      (13): Embedding(2580502, 16)\n",
       "      (14): Embedding(6878028, 16)\n",
       "      (15): Embedding(298771, 16)\n",
       "      (16): Embedding(11951, 16)\n",
       "      (17): Embedding(97, 16)\n",
       "      (18): Embedding(35, 12)\n",
       "      (19): Embedding(17022, 16)\n",
       "      (20): Embedding(7339, 16)\n",
       "      (21): Embedding(20046, 16)\n",
       "      (22): Embedding(4, 3)\n",
       "      (23): Embedding(7068, 16)\n",
       "      (24): Embedding(1377, 16)\n",
       "      (25): Embedding(63, 16)\n",
       "    )\n",
       "  )\n",
       "  (topmlp): MLPTower(\n",
       "    (hidden): Sequential(\n",
       "      (0): Linear(in_features=380, out_features=1024, bias=True)\n",
       "      (1): ReLU()\n",
       "      (2): Linear(in_features=1024, out_features=1024, bias=True)\n",
       "      (3): ReLU()\n",
       "      (4): Linear(in_features=1024, out_features=1024, bias=True)\n",
       "      (5): ReLU()\n",
       "      (6): Linear(in_features=1024, out_features=1024, bias=True)\n",
       "      (7): ReLU()\n",
       "      (8): Linear(in_features=1024, out_features=1, bias=True)\n",
       "    )\n",
       "  )\n",
       ")"
      ]
     },
     "execution_count": 12,
     "metadata": {},
     "output_type": "execute_result"
    }
   ],
   "source": [
    "model"
   ]
  },
  {
   "cell_type": "markdown",
   "metadata": {},
   "source": [
    "We initialize the optimizer."
   ]
  },
  {
   "cell_type": "code",
   "execution_count": 13,
   "metadata": {},
   "outputs": [],
   "source": [
    "optimizer = torch.optim.SGD(model.parameters(), lr=0.1, momentum=0.9)"
   ]
  },
  {
   "cell_type": "markdown",
   "metadata": {},
   "source": [
    "We get our dataloader."
   ]
  },
  {
   "cell_type": "code",
   "execution_count": 14,
   "metadata": {},
   "outputs": [],
   "source": [
    "train_dataset, valid_dataset = get_dataloader(DL_TYPE)"
   ]
  },
  {
   "cell_type": "markdown",
   "metadata": {},
   "source": [
    "We update some parameter."
   ]
  },
  {
   "cell_type": "code",
   "execution_count": 15,
   "metadata": {},
   "outputs": [],
   "source": [
    "if AMP:\n",
    "    amp_postfix = 'amp'\n",
    "else:\n",
    "    amp_postfix = 'noamp'"
   ]
  },
  {
   "cell_type": "markdown",
   "metadata": {},
   "source": [
    "Certain combinations are available by default and we do not specfic move the data to the device."
   ]
  },
  {
   "cell_type": "code",
   "execution_count": 16,
   "metadata": {},
   "outputs": [],
   "source": [
    "if DL_TYPE=='NVTabular' and todevice=='cuda:0':\n",
    "    todevice=None\n",
    "if DL_TYPE=='FastAI' and todevice=='cuda:0':\n",
    "    todevice=None\n",
    "if DL_TYPE=='FastAI' and todevice=='cpu':\n",
    "    todevice=None\n",
    "if DL_TYPE=='PyTorch' and todevice=='cpu':\n",
    "    todevice=None"
   ]
  },
  {
   "cell_type": "markdown",
   "metadata": {},
   "source": [
    "We run the benchmark."
   ]
  },
  {
   "cell_type": "code",
   "execution_count": 17,
   "metadata": {},
   "outputs": [
    {
     "name": "stdout",
     "output_type": "stream",
     "text": [
      "Training\n",
      "Len: 5977\n",
      "Samples: 195841983\n",
      "Time: 573.9222145080566\n",
      "Throughput: 341234.36599830515\n"
     ]
    }
   ],
   "source": [
    "logfilename = 'testpy.log'\n",
    "run_time, n_samples = time_training(model, train_dataset, optimizer, amp=AMP, device=todevice)\n",
    "log_textfile(logfilename, 'Training', 'w')\n",
    "log_textfile(logfilename, 'Len: ' + str(len(train_dataset)), 'a')\n",
    "log_textfile(logfilename, 'Samples: ' + str(n_samples), 'a')\n",
    "log_textfile(logfilename, 'Time: ' + str(run_time), 'a')\n",
    "log_textfile(logfilename, 'Throughput: ' + str(n_samples/run_time), 'a')"
   ]
  }
 ],
 "metadata": {
  "kernelspec": {
   "display_name": "rapids",
   "language": "python",
   "name": "rapids"
  },
  "language_info": {
   "codemirror_mode": {
    "name": "ipython",
    "version": 3
   },
   "file_extension": ".py",
   "mimetype": "text/x-python",
   "name": "python",
   "nbconvert_exporter": "python",
   "pygments_lexer": "ipython3",
   "version": "3.8.8"
  }
 },
 "nbformat": 4,
 "nbformat_minor": 4
}
