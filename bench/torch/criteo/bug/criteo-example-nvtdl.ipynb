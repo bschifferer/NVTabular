{
 "cells": [
  {
   "cell_type": "code",
   "execution_count": 1,
   "metadata": {},
   "outputs": [],
   "source": [
    "# Copyright 2021 NVIDIA Corporation. All Rights Reserved.\n",
    "#\n",
    "# Licensed under the Apache License, Version 2.0 (the \"License\");\n",
    "# you may not use this file except in compliance with the License.\n",
    "# You may obtain a copy of the License at\n",
    "#\n",
    "#     http://www.apache.org/licenses/LICENSE-2.0\n",
    "#\n",
    "# Unless required by applicable law or agreed to in writing, software\n",
    "# distributed under the License is distributed on an \"AS IS\" BASIS,\n",
    "# WITHOUT WARRANTIES OR CONDITIONS OF ANY KIND, either express or implied.\n",
    "# See the License for the specific language governing permissions and\n",
    "# limitations under the License.\n",
    "# =============================================================================="
   ]
  },
  {
   "cell_type": "code",
   "execution_count": 1,
   "metadata": {},
   "outputs": [],
   "source": [
    "import os\n",
    "from time import time\n",
    "import re\n",
    "import glob\n",
    "import warnings\n",
    "\n",
    "# tools for data preproc/loading\n",
    "import torch\n",
    "import rmm\n",
    "import nvtabular as nvt\n",
    "from nvtabular.ops import Normalize,  Categorify,  LogOp, FillMissing, Clip, get_embedding_sizes\n",
    "from nvtabular.loader.torch import TorchAsyncItr, DLDataLoader\n",
    "from nvtabular.utils import device_mem_size\n",
    "\n",
    "# tools for training"
   ]
  },
  {
   "cell_type": "code",
   "execution_count": 2,
   "metadata": {},
   "outputs": [],
   "source": [
    "# define some information about where to get our data\n",
    "INPUT_DATA_DIR = os.environ.get('INPUT_DATA_DIR', '/raid/criteo/tests/crit_int_pq')\n",
    "OUTPUT_DATA_DIR = os.environ.get('OUTPUT_DATA_DIR', '/raid/data/criteo/output/output/') # where we'll save our procesed data to\n",
    "BATCH_SIZE = int(os.environ.get('BATCH_SIZE', 32768))\n",
    "AMP = os.environ.get(\"AMP\", \"true\") \n",
    "AMP = True if AMP.lower() in \"true\" else False\n",
    "PARTS_PER_CHUNK = int(os.environ.get('PARTS_PER_CHUNK', 2))\n",
    "SHUFFLE = os.environ.get(\"SHUFFLE\", False)\n",
    "NUM_TRAIN_DAYS = 23 # number of days worth of data to use for training, the rest will be used for validation\n",
    "\n",
    "# define our dataset schema\n",
    "CONTINUOUS_COLUMNS = ['I' + str(x) for x in range(1,14)]\n",
    "CATEGORICAL_COLUMNS =  ['C' + str(x) for x in range(1,27)]\n",
    "LABEL_COLUMNS = ['label']\n",
    "COLUMNS = CONTINUOUS_COLUMNS + CATEGORICAL_COLUMNS + LABEL_COLUMNS"
   ]
  },
  {
   "cell_type": "code",
   "execution_count": 3,
   "metadata": {},
   "outputs": [],
   "source": [
    "output_train_dir = os.path.join(OUTPUT_DATA_DIR, 'train/')\n",
    "output_valid_dir = os.path.join(OUTPUT_DATA_DIR, 'valid/')\n",
    "! mkdir -p $output_train_dir\n",
    "! mkdir -p $output_valid_dir"
   ]
  },
  {
   "cell_type": "code",
   "execution_count": 4,
   "metadata": {},
   "outputs": [],
   "source": [
    "# rmm.reinitialize(pool_allocator=True, initial_pool_size=0.2 * device_mem_size(kind='free'))"
   ]
  },
  {
   "cell_type": "code",
   "execution_count": 5,
   "metadata": {},
   "outputs": [
    {
     "data": {
      "text/plain": [
       "(['/raid/data/criteo/output/output/train/12.353c8050ed1f4702bde63bd697c9cc36.parquet',\n",
       "  '/raid/data/criteo/output/output/train/18.6e5ac8d8f49f46089cecceb6d044adda.parquet',\n",
       "  '/raid/data/criteo/output/output/train/14.98377a29380145999e7e1e0d4c75eb81.parquet',\n",
       "  '/raid/data/criteo/output/output/train/4.1907f580308044b6a32da25e9d3f1540.parquet',\n",
       "  '/raid/data/criteo/output/output/train/8.68a9f5f1feb64fe59fe160211b54afd4.parquet',\n",
       "  '/raid/data/criteo/output/output/train/1.8772a8717fae46df8b521cdd891df07a.parquet',\n",
       "  '/raid/data/criteo/output/output/train/16.7a1f69dd7d834844bbfb68e659bb362c.parquet',\n",
       "  '/raid/data/criteo/output/output/train/6.46cd6180dc42484199d895a2de02a1a6.parquet',\n",
       "  '/raid/data/criteo/output/output/train/2.1063c71d33e646fe8e6218bc2457c3cb.parquet',\n",
       "  '/raid/data/criteo/output/output/train/7.1a249ca9dbf44b8e9ca6b0ce740e3a88.parquet',\n",
       "  '/raid/data/criteo/output/output/train/0.cb895dbeefa14e65aa2e715b295ac9e7.parquet',\n",
       "  '/raid/data/criteo/output/output/train/5.c311b5980d704e93816fa7804e2a3857.parquet',\n",
       "  '/raid/data/criteo/output/output/train/9.74f0e8c3d56d4dcfb5612ad43d5b8adb.parquet',\n",
       "  '/raid/data/criteo/output/output/train/11.e174d5a532c94b69822fd863478c4e04.parquet',\n",
       "  '/raid/data/criteo/output/output/train/13.95d6f2a6766048088ee7ae81a79bc1bb.parquet',\n",
       "  '/raid/data/criteo/output/output/train/17.48205e924f50415d83009a48ff3ee19f.parquet',\n",
       "  '/raid/data/criteo/output/output/train/10.3aa47f4aa3144735a2b0f71dc88fa918.parquet',\n",
       "  '/raid/data/criteo/output/output/train/15.7be16af0b3fa47a4897b5a0ab595d7be.parquet',\n",
       "  '/raid/data/criteo/output/output/train/19.f79d7d5b19864ce69e7ff41131c87c09.parquet',\n",
       "  '/raid/data/criteo/output/output/train/3.9fe016cc81694cee9f05674324ae0dba.parquet'],\n",
       " ['/raid/data/criteo/output/output/valid/13.d4724e7f0834411cb46533f8f8c86034.parquet',\n",
       "  '/raid/data/criteo/output/output/valid/4.c202f22751934899beaaeee483a5e9e2.parquet',\n",
       "  '/raid/data/criteo/output/output/valid/1.3aca89e5106c4e7f8a06cc71440e0b6a.parquet',\n",
       "  '/raid/data/criteo/output/output/valid/15.9303e2ee042c4146a0aaa6a5d4850a15.parquet',\n",
       "  '/raid/data/criteo/output/output/valid/10.8c43c55cca2e425d9ce43148efaed85b.parquet',\n",
       "  '/raid/data/criteo/output/output/valid/3.6e231834104c45a2a1012a7195788261.parquet',\n",
       "  '/raid/data/criteo/output/output/valid/17.707601bf952f47279c7c1ba49259092b.parquet',\n",
       "  '/raid/data/criteo/output/output/valid/14.bfd3a717ed6b44a8b4fcf366c67e3b65.parquet',\n",
       "  '/raid/data/criteo/output/output/valid/7.4ae3f3bdf2514499b8a9ce04b5312797.parquet',\n",
       "  '/raid/data/criteo/output/output/valid/19.44f0eba35c204affb20e55401decea13.parquet',\n",
       "  '/raid/data/criteo/output/output/valid/0.f90e29f44474454ea6ad03a0bdfa9d74.parquet',\n",
       "  '/raid/data/criteo/output/output/valid/16.efb3bd3869b44ee8bc6a4bbdc564cf54.parquet',\n",
       "  '/raid/data/criteo/output/output/valid/6.ad8ec6d6447b48619afa548be23336a8.parquet',\n",
       "  '/raid/data/criteo/output/output/valid/2.63899d36733c43f691b4eaafcc82621e.parquet',\n",
       "  '/raid/data/criteo/output/output/valid/12.d613b4f1a9554ab3840e5c81acf06c71.parquet',\n",
       "  '/raid/data/criteo/output/output/valid/5.5aae3277b269426ab6e8446eee287907.parquet',\n",
       "  '/raid/data/criteo/output/output/valid/18.4e9d894e2ba744d688a1eaebaf39864f.parquet',\n",
       "  '/raid/data/criteo/output/output/valid/8.1d840945b6664380afddc4f073037404.parquet',\n",
       "  '/raid/data/criteo/output/output/valid/9.1317d2c0af2a49e8bdafb77eaccac160.parquet',\n",
       "  '/raid/data/criteo/output/output/valid/11.2b92bf253ebf43bd8b4537263b2b233b.parquet'])"
      ]
     },
     "execution_count": 5,
     "metadata": {},
     "output_type": "execute_result"
    }
   ],
   "source": [
    "train_paths = glob.glob(os.path.join(output_train_dir, \"*.parquet\"))\n",
    "valid_paths = glob.glob(os.path.join(output_valid_dir, \"*.parquet\"))\n",
    "train_paths, valid_paths"
   ]
  },
  {
   "cell_type": "code",
   "execution_count": 6,
   "metadata": {},
   "outputs": [],
   "source": [
    "from nvtabular.loader.torch import TorchAsyncItr\n",
    "train_data = nvt.Dataset(train_paths[:1], engine=\"parquet\", part_mem_fraction=0.04/PARTS_PER_CHUNK)\n",
    "valid_data = nvt.Dataset(valid_paths[:1], engine=\"parquet\", part_mem_fraction=0.04/PARTS_PER_CHUNK)\n",
    "train_loader = TorchAsyncItr(\n",
    "    train_data,\n",
    "    batch_size=BATCH_SIZE,\n",
    "    cats=CATEGORICAL_COLUMNS,\n",
    "    conts=CONTINUOUS_COLUMNS,\n",
    "    labels=LABEL_COLUMNS,\n",
    "    parts_per_chunk=PARTS_PER_CHUNK,\n",
    "    shuffle=SHUFFLE,\n",
    ")\n",
    "valid_loader = TorchAsyncItr(\n",
    "    valid_data,\n",
    "    batch_size=BATCH_SIZE,\n",
    "    cats=CATEGORICAL_COLUMNS,\n",
    "    conts=CONTINUOUS_COLUMNS,\n",
    "    labels=LABEL_COLUMNS,\n",
    "    parts_per_chunk=PARTS_PER_CHUNK,\n",
    "    shuffle=SHUFFLE,\n",
    ")\n"
   ]
  },
  {
   "cell_type": "code",
   "execution_count": 7,
   "metadata": {},
   "outputs": [],
   "source": [
    "EMBEDDING_DROPOUT_RATE = 0.04\n",
    "DROPOUT_RATES = [0.001, 0.01]\n",
    "HIDDEN_DIMS = [1000, 500]\n",
    "LEARNING_RATE = 0.001\n",
    "EPOCHS = 1\n",
    "embeddings = {'C1': (7599500, 16),\n",
    " 'C10': (5345303, 16),\n",
    " 'C11': (561810, 16),\n",
    " 'C12': (242827, 16),\n",
    " 'C13': (11, 6),\n",
    " 'C14': (2209, 16),\n",
    " 'C15': (10616, 16),\n",
    " 'C16': (100, 16),\n",
    " 'C17': (4, 3),\n",
    " 'C18': (968, 16),\n",
    " 'C19': (15, 7),\n",
    " 'C2': (33521, 16),\n",
    " 'C20': (7838519, 16),\n",
    " 'C21': (2580502, 16),\n",
    " 'C22': (6878028, 16),\n",
    " 'C23': (298771, 16),\n",
    " 'C24': (11951, 16),\n",
    " 'C25': (97, 16),\n",
    " 'C26': (35, 12),\n",
    " 'C3': (17022, 16),\n",
    " 'C4': (7339, 16),\n",
    " 'C5': (20046, 16),\n",
    " 'C6': (4, 3),\n",
    " 'C7': (7068, 16),\n",
    " 'C8': (1377, 16),\n",
    " 'C9': (63, 16)}"
   ]
  },
  {
   "cell_type": "code",
   "execution_count": 8,
   "metadata": {},
   "outputs": [],
   "source": [
    "from nvtabular.framework_utils.torch.models import Model\n",
    "from nvtabular.framework_utils.torch.utils import process_epoch\n",
    "model = Model(\n",
    "    embedding_table_shapes=embeddings,\n",
    "    num_continuous=len(CONTINUOUS_COLUMNS),\n",
    "    emb_dropout=EMBEDDING_DROPOUT_RATE,\n",
    "    layer_hidden_dims=HIDDEN_DIMS,\n",
    "    layer_dropout_rates=DROPOUT_RATES,\n",
    ").to('cuda')"
   ]
  },
  {
   "cell_type": "code",
   "execution_count": 9,
   "metadata": {},
   "outputs": [],
   "source": [
    "optimizer = torch.optim.Adam(model.parameters(), lr=LEARNING_RATE)\n",
    "def rmspe_func(y_pred, y):\n",
    "    \"Return y_pred and y to non-log space and compute RMSPE\"\n",
    "    y_pred, y = torch.exp(y_pred) - 1, torch.exp(y) - 1\n",
    "    pct_var = (y_pred - y) / y\n",
    "    return (pct_var**2).mean().pow(0.5)"
   ]
  },
  {
   "cell_type": "code",
   "execution_count": 10,
   "metadata": {},
   "outputs": [],
   "source": [
    "def batch_transform(batch, cont_cols=CONTINUOUS_COLUMNS, cat_cols=CATEGORICAL_COLUMNS, label_cols=LABEL_COLUMNS):\n",
    "    x_cat = torch.tensor(batch[sorted(cat_cols)].values).type(torch.LongTensor).cuda() \n",
    "    x_cont = torch.tensor(batch[cont_cols].values).type(torch.FloatTensor).cuda()\n",
    "    y = torch.tensor(batch[label_cols[0]].values).type(torch.FloatTensor).cuda()\n",
    "    return x_cat, x_cont, y"
   ]
  },
  {
   "cell_type": "code",
   "execution_count": 11,
   "metadata": {},
   "outputs": [
    {
     "name": "stdout",
     "output_type": "stream",
     "text": [
      "Total batches: 298\n",
      "Train:35.40495157241821 + Valid:2.384185791015625e-07 = EpochTotal:35.40495181083679\n"
     ]
    }
   ],
   "source": [
    "for epoch in range(EPOCHS):\n",
    "    start_train=time()\n",
    "    train_loss, y_pred, y = process_epoch(train_loader, \n",
    "                                          model, \n",
    "                                          train=True, \n",
    "                                          optimizer=optimizer,\n",
    "                                          #transform=batch_transform,\n",
    "                                          amp=False,\n",
    "                                         )\n",
    "    train_rmspe = rmspe_func(y_pred, y)\n",
    "    train_time=time() - start_train\n",
    "    y_pred = None\n",
    "    y = None\n",
    "    start_valid=time()\n",
    "#     valid_loss, y_pred, y = process_epoch(valid_loader,\n",
    "#                                           model, \n",
    "#                                           train=False, \n",
    "#                                           optimizer=optimizer,\n",
    "#                                           #transform=batch_transform,\n",
    "#                                           amp=False,\n",
    "#                                          )\n",
    "#     valid_rmspe = rmspe_func(y_pred, y)\n",
    "    valid_time = time() - start_valid\n",
    "    y_pred = None\n",
    "    y = None\n",
    "    print(f\"Train:{train_time} + Valid:{valid_time} = EpochTotal:{train_time + valid_time}\")"
   ]
  }
 ],
 "metadata": {
  "file_extension": ".py",
  "kernelspec": {
   "display_name": "Python 3",
   "language": "python",
   "name": "python3"
  },
  "language_info": {
   "codemirror_mode": {
    "name": "ipython",
    "version": 3
   },
   "file_extension": ".py",
   "mimetype": "text/x-python",
   "name": "python",
   "nbconvert_exporter": "python",
   "pygments_lexer": "ipython3",
   "version": "3.8.8"
  },
  "mimetype": "text/x-python",
  "name": "python",
  "npconvert_exporter": "python",
  "pygments_lexer": "ipython3",
  "version": 3
 },
 "nbformat": 4,
 "nbformat_minor": 4
}
